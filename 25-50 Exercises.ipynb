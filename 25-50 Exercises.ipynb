{
 "cells": [
  {
   "cell_type": "markdown",
   "metadata": {},
   "source": [
    "### Exe 26\n",
    "Question: Make a script that prints out numbers from 1 to 10                                                        \n",
    "\n",
    "**Expected output:**                                                        \n",
    "                                                        \n",
    "1\n",
    "2\n",
    "3\n",
    "4\n",
    "5\n",
    "6\n",
    "7\n",
    "8\n",
    "9\n",
    "10"
   ]
  },
  {
   "cell_type": "code",
   "execution_count": 1,
   "metadata": {},
   "outputs": [
    {
     "name": "stdout",
     "output_type": "stream",
     "text": [
      "1\n",
      "2\n",
      "3\n",
      "4\n",
      "5\n",
      "6\n",
      "7\n",
      "8\n",
      "9\n",
      "10\n"
     ]
    }
   ],
   "source": [
    "for i in range(1,11):\n",
    "    print(i)"
   ]
  },
  {
   "cell_type": "markdown",
   "metadata": {},
   "source": [
    "### Exe 27\n",
    "Question: \n",
    "\n",
    "Create a function that calculates acceleration given initial velocity v1, final velocity v2,                                  \n",
    "start time t1, and end time t2. The formula for acceleration is:\n",
    "                                        \n",
    "a = vf-vi / tf-ti                                      \n",
    "                                                                        \n",
    "To test your solution, call the function by inputting values 0, 10, 0, 20 for v1, v2, t1, and t2, respectively,                 \n",
    "and you should get the expected output.\n",
    "\n",
    "**Expected output:**\n",
    "\n",
    "0.5"
   ]
  },
  {
   "cell_type": "code",
   "execution_count": 3,
   "metadata": {},
   "outputs": [
    {
     "data": {
      "text/plain": [
       "0.5"
      ]
     },
     "execution_count": 3,
     "metadata": {},
     "output_type": "execute_result"
    }
   ],
   "source": [
    "def cal_acc(v1, v2, t1, t2):\n",
    "    a = (v2-v1) / (t2-t1)\n",
    "    \n",
    "    return a\n",
    "\n",
    "cal_acc(0, 10, 0, 20)"
   ]
  },
  {
   "cell_type": "markdown",
   "metadata": {},
   "source": [
    "### Exe 28\n",
    "Question:  Why is there an error in the code, and how would you fix it?\n",
    "                                                               \n",
    "def foo(a, b):                                                                     \n",
    "    print(a + b)                                                                    \n",
    "                                                                    \n",
    "x = foo(2, 3) * 10                                                                    "
   ]
  },
  {
   "cell_type": "markdown",
   "metadata": {},
   "source": [
    " **Answer:**  Line 4 throws a TypeError because Python cannot multiply a None type object with an integer. The function output is what produces a None object because the function definition is not returning anything. Fix it by using return  instead of print :"
   ]
  },
  {
   "cell_type": "code",
   "execution_count": 10,
   "metadata": {},
   "outputs": [
    {
     "data": {
      "text/plain": [
       "50"
      ]
     },
     "execution_count": 10,
     "metadata": {},
     "output_type": "execute_result"
    }
   ],
   "source": [
    "# Fixed\n",
    "def foo(a, b):\n",
    "    return a + b\n",
    "\n",
    "x = foo(2, 3) * 10\n",
    "x"
   ]
  },
  {
   "cell_type": "markdown",
   "metadata": {},
   "source": [
    "### Exe 29\n",
    "Please write a function that calculates liquid volume in a sphere using the following formula.                                                                        \n",
    "The radius r  is always 10, so consider making it a default parameter.                                                                        \n",
    "\n",
    "\n",
    "You can then test your solution by passing 2 for h and you should get the expected output.                                                                        \n",
    "                                                                           \n",
    "**Expected output:**\n",
    "\n",
    "4071.5040790523717"
   ]
  },
  {
   "cell_type": "code",
   "execution_count": 12,
   "metadata": {},
   "outputs": [
    {
     "data": {
      "text/plain": [
       "4440.117617073574"
      ]
     },
     "execution_count": 12,
     "metadata": {},
     "output_type": "execute_result"
    }
   ],
   "source": [
    "from math import pi\n",
    "def calc_vol(h, r = 10):\n",
    "    \n",
    "    liquid_volume = (4 * pi * r**3/3) - (pi * h**2 * (3* r * - h) / 3)\n",
    "    \n",
    "    return liquid_volume\n",
    "\n",
    "calc_vol(2)"
   ]
  },
  {
   "cell_type": "markdown",
   "metadata": {},
   "source": [
    "### Exe 30\n",
    "**Question:**  Why do you get an error, and how would you fix it?                                                      \n",
    "                                                      \n",
    "def foo(a=2, b):                                                       \n",
    "    return a + b"
   ]
  },
  {
   "cell_type": "code",
   "execution_count": 18,
   "metadata": {},
   "outputs": [],
   "source": [
    "def foo( b, a=2):\n",
    "    return a + b\n",
    "\n",
    "# The reason, why it was throughing an error as its not the correct syntax, we have to fisrt define the argument with no number\n",
    "# assigned . And at the end the argument with argumrnts\n"
   ]
  },
  {
   "cell_type": "markdown",
   "metadata": {},
   "source": [
    "### Exe 31\n",
    "**Question:**  What will the following script output? Please try to do this by mind if you can.\n",
    "                                                                                  \n",
    "c = 1                                                                                  \n",
    "def foo():                                                                                  \n",
    "    return c\n",
    "c = 3                                                                                  \n",
    "print(foo())                                                                                  "
   ]
  },
  {
   "cell_type": "code",
   "execution_count": 1,
   "metadata": {},
   "outputs": [
    {
     "name": "stdout",
     "output_type": "stream",
     "text": [
      "3\n"
     ]
    }
   ],
   "source": [
    "c = 1                                                                                  \n",
    "def foo():                                                                                  \n",
    "    return c\n",
    "c = 3                                                                                  \n",
    "print(foo())"
   ]
  },
  {
   "cell_type": "markdown",
   "metadata": {},
   "source": [
    "### Exe 32\n",
    "**Question:**  Here's another similar exercise. What will the following script output? Try to do this mentally if you can.\n",
    "                                                                                                 \n",
    "c = 1                                                                                                 \n",
    "def foo():                                                                                                 \n",
    "    c = 2                                                                                                 \n",
    "    return c                                                                                                 \n",
    "c = 3                                                                                                                                                                                                  \n",
    "print(foo())                                                                                                 "
   ]
  },
  {
   "cell_type": "code",
   "execution_count": 4,
   "metadata": {},
   "outputs": [
    {
     "name": "stdout",
     "output_type": "stream",
     "text": [
      "2\n"
     ]
    }
   ],
   "source": [
    "c = 1     # A global Variable                                                                                             \n",
    "def foo():                                                                                                 \n",
    "    c = 2   # A local Variable  cannot be accesed from outside the function                                                                                             \n",
    "    return c                                                                                                 \n",
    "c = 3                                                                                                                                                                                                  \n",
    "print(foo())"
   ]
  },
  {
   "cell_type": "markdown",
   "metadata": {},
   "source": [
    "### Exe 34\n",
    "**Question:** The following script throws a NameError  in the last line saying that a  is not defined. Please fix the function so that there is no error and the  last line can print out the value of a  (i.e. 1 ).\n",
    "                                                                                                         \n",
    "def foo():                                                                                                          \n",
    "    a = 1                                                                                                                                                                                                                                                                                                                                                                                                                                                                                                                                                                                                                                                                                                                                                                \n",
    "    return a                                                                                                                                                                                                                                                                                                                                                                                                                                                                                                                                                                                                                                                       \n",
    "foo()                                                                                                                                                                                                                                                                                                                                                                                                                                                                                                                                              \n",
    "print(a)                                                                                                                                                                                                                                                                                                                                                                                                                                    \n",
    "**Expected output:**                                                                                                                                                                                                                                                                                                                           \n",
    "                                                                                                                                                                                                                  \n",
    "1                                                                                                          "
   ]
  },
  {
   "cell_type": "code",
   "execution_count": 1,
   "metadata": {},
   "outputs": [
    {
     "ename": "NameError",
     "evalue": "name 'a' is not defined",
     "output_type": "error",
     "traceback": [
      "\u001b[1;31m---------------------------------------------------------------------------\u001b[0m",
      "\u001b[1;31mNameError\u001b[0m                                 Traceback (most recent call last)",
      "\u001b[1;32m<ipython-input-1-bc37fee5d3d8>\u001b[0m in \u001b[0;36m<module>\u001b[1;34m\u001b[0m\n\u001b[0;32m      3\u001b[0m     \u001b[1;32mreturn\u001b[0m \u001b[0ma\u001b[0m\u001b[1;33m\u001b[0m\u001b[1;33m\u001b[0m\u001b[0m\n\u001b[0;32m      4\u001b[0m \u001b[0mfoo\u001b[0m\u001b[1;33m(\u001b[0m\u001b[1;33m)\u001b[0m\u001b[1;33m\u001b[0m\u001b[1;33m\u001b[0m\u001b[0m\n\u001b[1;32m----> 5\u001b[1;33m \u001b[0mprint\u001b[0m\u001b[1;33m(\u001b[0m\u001b[0ma\u001b[0m\u001b[1;33m)\u001b[0m\u001b[1;33m\u001b[0m\u001b[1;33m\u001b[0m\u001b[0m\n\u001b[0m",
      "\u001b[1;31mNameError\u001b[0m: name 'a' is not defined"
     ]
    }
   ],
   "source": [
    "def foo():\n",
    "    a = 1\n",
    "    return a\n",
    "foo()\n",
    "print(a)"
   ]
  },
  {
   "cell_type": "code",
   "execution_count": 2,
   "metadata": {},
   "outputs": [],
   "source": [
    "# Its throughing an error that a is not defined globally, its defined locally, and local variables cannot be accessed outside the function"
   ]
  },
  {
   "cell_type": "markdown",
   "metadata": {},
   "source": [
    "### Exe 35\n",
    "**Question:** Create a function that takes any string as input and returns the number of words for that string.\n",
    "\n"
   ]
  },
  {
   "cell_type": "code",
   "execution_count": 3,
   "metadata": {},
   "outputs": [
    {
     "data": {
      "text/plain": [
       "3"
      ]
     },
     "execution_count": 3,
     "metadata": {},
     "output_type": "execute_result"
    }
   ],
   "source": [
    "def string(a):\n",
    "    split_string = a.split()\n",
    "    return(len(split_string))\n",
    "\n",
    "string(\"hey im malik\")"
   ]
  },
  {
   "cell_type": "markdown",
   "metadata": {},
   "source": [
    "### Exe 36\n",
    "**Question:** Please download the words1.txt file from the attachment and then create a Python function that takes a text file as input and returns the number of words contained in the text file.                                                                     \n",
    "                                                                                                                                          \n",
    "**Expected output:**                                                                     \n",
    "                                                                     \n",
    "10                                                                                                                                                                                                    "
   ]
  },
  {
   "cell_type": "code",
   "execution_count": 6,
   "metadata": {},
   "outputs": [
    {
     "data": {
      "text/plain": [
       "10"
      ]
     },
     "execution_count": 6,
     "metadata": {},
     "output_type": "execute_result"
    }
   ],
   "source": [
    "def count_words(file_path):\n",
    "    with open(file_path, mode= 'r') as file:\n",
    "        strng = file.read()\n",
    "        strng_split = strng.split()\n",
    "        return len(strng_split)\n",
    "    \n",
    "    \n",
    "\n",
    "count_words(\"words.txt\")"
   ]
  },
  {
   "cell_type": "markdown",
   "metadata": {},
   "source": [
    "### Exe 37\n",
    "**Question:** Create a function that takes a text file as input and returns the number of words contained in the text file.\n",
    "    Please take into consideration that a comma can separate some words with no space.\n",
    "    For example, \"Hi, it's me.\" would need to be counted as three words. \n",
    "    For your convenience, you can use the text file in the attachment."
   ]
  },
  {
   "cell_type": "code",
   "execution_count": 21,
   "metadata": {},
   "outputs": [
    {
     "data": {
      "text/plain": [
       "11"
      ]
     },
     "execution_count": 21,
     "metadata": {},
     "output_type": "execute_result"
    }
   ],
   "source": [
    "def adv_counter(file_path):\n",
    "    with open(file_path, mode= 'r') as file:\n",
    "        strng = file.read()\n",
    "        strng_modified = strng.replace(\",\", \" \")\n",
    "        strng_split = strng_modified.split(\" \")\n",
    "        return len(strng_split)\n",
    "    \n",
    "\n",
    "    \n",
    "adv_counter(\"words.txt\")"
   ]
  },
  {
   "cell_type": "markdown",
   "metadata": {},
   "source": [
    "#### Exercise for reference: \n",
    "\n",
    "Create a function that takes a text file as input and returns the number of words contained in the text file.\n",
    "Please take into consideration that a comma can separate some words with no space. \n",
    "For example, \"Hi, it's me.\" would need to be counted as three words. \n",
    "For your convenience, you can use the text file in the attachment.\n",
    "                                                                                \n",
    "Answer 1:                                                                                 \n",
    "                                                                                \n",
    "**def count_words(filepath):**                                                                                                                                                                                                                                               \n",
    "    **with open(filepath, 'r') as file:                                                                                                                                                                \n",
    "        text = file.read()                                                                                \n",
    "    text = text.replace(\",\", \" \")                                                                                \n",
    "    string_list = text.split(\" \")                                                                                \n",
    "    return len(string_list)**                                                                                \n",
    "                                                                                \n",
    "**print(count_words(\"words2.txt\"))**                                                                                \n",
    "Explanation 1:                                                                                \n",
    "                                                                                \n",
    "This solution is like the previous exercise's solution with the difference that before splitting,\n",
    "we are replacing all commas with a space that will let the split method count the number of words.\n",
    "\n",
    "Answer 2:                                                                                 \n",
    "\n",
    "**import re**                                                                               \n",
    "\n",
    "**def count_words_re(filepath):                                                                                \n",
    "    with open(filepath, 'r') as file:                                                                                \n",
    "        text = file.read()                                                                                \n",
    "    string_list = re.split(\",| \", text)                                                                                \n",
    "    return len(string_list)**                                                                              \n",
    "                                                                                \n",
    "**print(count_words_re(\"words2.txt\")**                                                                               \n",
    "Explanation 2:                                                                                \n",
    "                                                                                \n",
    "This alternative solution uses the built-in re  module,                                                                                \n",
    "which provides regular expression matching operations.\n",
    "We're using the split method of that module, and the expression \",| \" is meant to replace commas with spaces.\n",
    "Using methods from the re  module can be more appropriate than Python built-in methods when string operations are complicated.\n",
    "However, for this simple scenario, the re  module could be skipped."
   ]
  },
  {
   "cell_type": "markdown",
   "metadata": {},
   "source": [
    "### Exe 38\n",
    "**Question:** The following code is supposed to print out the square root of 9,                                                                                      \n",
    "but it throws an error instead because another line before that is missing.                                                                                      \n",
    "Please fix the script so that it prints out the square root of 9.                                                                                      \n",
    "                                                                                                                                                                            \n",
    "math.sqrt(9)                                                                                       \n",
    "                                                                                      \n",
    "**Expected output:**                                                                                      \n",
    "                                                                                      \n",
    "3                                                                                       "
   ]
  },
  {
   "cell_type": "code",
   "execution_count": 2,
   "metadata": {},
   "outputs": [
    {
     "data": {
      "text/plain": [
       "3.0"
      ]
     },
     "execution_count": 2,
     "metadata": {},
     "output_type": "execute_result"
    }
   ],
   "source": [
    "import math\n",
    "math.sqrt(9)"
   ]
  },
  {
   "cell_type": "markdown",
   "metadata": {},
   "source": [
    "### Exe 39\n",
    "**Question:** The script is supposed to output the cosine of angle 1 radian, but instead, it is throwing an error.    \n",
    "Please fix the code so that it prints out the expected output.                                                                                             \n",
    "                                                                                             \n",
    "import math                                                                                             \n",
    "print(math.cosine(1))                                                                                             \n",
    "****Expected output:**                                                                                             \n",
    "                                                                                             \n",
    "0.5403023058681397                                                                                             "
   ]
  },
  {
   "cell_type": "code",
   "execution_count": 9,
   "metadata": {},
   "outputs": [
    {
     "name": "stdout",
     "output_type": "stream",
     "text": [
      "0.5403023058681398\n"
     ]
    }
   ],
   "source": [
    "\n",
    "print(math.cos(1))\n"
   ]
  },
  {
   "cell_type": "markdown",
   "metadata": {},
   "source": [
    "### Exe 40\n",
    "**Question:** Please try to guess what is missing in the following code and add the missing part so that the code works fine.\n",
    "                                                                                   \n",
    "import math                                                                                   \n",
    "print(math.pow(2))                                                                                   "
   ]
  },
  {
   "cell_type": "code",
   "execution_count": 11,
   "metadata": {},
   "outputs": [
    {
     "name": "stdout",
     "output_type": "stream",
     "text": [
      "4.0\n"
     ]
    }
   ],
   "source": [
    "import math\n",
    "print(math.pow(2, 2))\n",
    "\n",
    "# Here one argument was missing"
   ]
  },
  {
   "cell_type": "markdown",
   "metadata": {},
   "source": [
    "### Exe 41\n",
    "**Question:** Create a script that generates a text file with all letters of the English alphabet inside it, one letter per line."
   ]
  },
  {
   "cell_type": "code",
   "execution_count": 8,
   "metadata": {},
   "outputs": [],
   "source": [
    "import string\n",
    "with open(\"text.txt\", mode = 'w') as file:\n",
    "    for letter in string.ascii_letters:\n",
    "        file.write(letter + '\\n')"
   ]
  },
  {
   "cell_type": "code",
   "execution_count": 14,
   "metadata": {},
   "outputs": [
    {
     "name": "stdout",
     "output_type": "stream",
     "text": [
      "a\n",
      "b\n",
      "c\n",
      "d\n",
      "e\n",
      "f\n",
      "g\n",
      "h\n",
      "i\n",
      "j\n",
      "k\n",
      "l\n",
      "m\n",
      "n\n",
      "o\n",
      "p\n",
      "q\n",
      "r\n",
      "s\n",
      "t\n",
      "u\n",
      "v\n",
      "w\n",
      "x\n",
      "y\n",
      "z\n",
      "A\n",
      "B\n",
      "C\n",
      "D\n",
      "E\n",
      "F\n",
      "G\n",
      "H\n",
      "I\n",
      "J\n",
      "K\n",
      "L\n",
      "M\n",
      "N\n",
      "O\n",
      "P\n",
      "Q\n",
      "R\n",
      "S\n",
      "T\n",
      "U\n",
      "V\n",
      "W\n",
      "X\n",
      "Y\n",
      "Z\n",
      "\n"
     ]
    }
   ],
   "source": [
    "with open(\"text.txt\", mode = 'r') as fle:\n",
    "    print(fle.read())                                              ✔👀"
   ]
  },
  {
   "cell_type": "markdown",
   "metadata": {},
   "source": [
    "### Exe 42\n",
    "**Question:** Print out in each line the sum of homologous items of the two sequences.\n",
    "                                                                                   \n",
    "a = [1, 2, 3]                                                                                   \n",
    "b = (4, 5, 6)                                                                                   \n",
    "                                                                                                                                                                                                                                                                                                                                                                                                                                                                                                                  \n",
    "****Expected output:**                                                                                                                                                                                                                                                                                                                                                                                                                                                                                                                                                                                                                                                                                                                                                                                                                                                                                                                                                                                                                                                                                                                                                                                                                                                                                                                                                                                                                                                                                                                                                                                                                                                                                                                              \n",
    "                                                                                                                                                                                                                                                                                                                                            \n",
    "5                                                                                                                                                                                                                                                                                                                                                                                                                                                                                                                        \n",
    "7                                                                                                                                                                                                                                                                                                                                                                                                                               \n",
    "9                                                                                                                                                                      "
   ]
  },
  {
   "cell_type": "code",
   "execution_count": 21,
   "metadata": {},
   "outputs": [
    {
     "name": "stdout",
     "output_type": "stream",
     "text": [
      "5\n",
      "7\n",
      "9\n"
     ]
    }
   ],
   "source": [
    "a = [1, 2, 3]\n",
    "b = (4, 5, 6)\n",
    "for i, j in zip(a, b):\n",
    "    print((i+j))"
   ]
  },
  {
   "cell_type": "markdown",
   "metadata": {},
   "source": [
    "### Exe 43\n",
    "**Question:** Create a script that generates a file where all letters of the English alphabet are listed two in each line. The inside of the text file would look like:\n",
    "                                                                                                       \n",
    "ab                                                                                                       \n",
    "cd                                                                                                                                                                                                                                                                                                                                                                                                                            \n",
    "ef                                                                                                                                                                                                                                                                                                                     \n",
    "                                                                                                                                                                                                              \n",
    "and so on.                                                                                                       "
   ]
  },
  {
   "cell_type": "code",
   "execution_count": 34,
   "metadata": {},
   "outputs": [],
   "source": [
    "import string\n",
    "with open(\"alpha.txt\", mode = 'w') as file:\n",
    "    for letter1, letter2 in zip(string.ascii_lowercase[0::2], string.ascii_lowercase[1::2]) :\n",
    "        file.write(letter1 + letter2 + \"\\n\" )\n",
    "        "
   ]
  },
  {
   "cell_type": "code",
   "execution_count": 35,
   "metadata": {},
   "outputs": [],
   "source": [
    "# for letter in string.ascii_lowercase[0::2]:\n",
    "#     print(letter)"
   ]
  },
  {
   "cell_type": "code",
   "execution_count": 36,
   "metadata": {},
   "outputs": [],
   "source": [
    "# for letter in string.ascii_lowercase[1::2]:\n",
    "#     print(letter)"
   ]
  },
  {
   "cell_type": "markdown",
   "metadata": {},
   "source": [
    "### Exe 44\n",
    "**Question:** Create a script that generates a file where all letters of the English alphabet are listed three in each line. The inside of the text file would look like:\n",
    "                                                                                     \n",
    "abc                                                                                     \n",
    "def                                                                                                                                                                                                                                                               \n",
    "ghi                                                                                                                                                                          \n",
    "\n",
    "and so on.                                                                                     "
   ]
  },
  {
   "cell_type": "code",
   "execution_count": 37,
   "metadata": {},
   "outputs": [],
   "source": [
    "import string \n",
    "with open(\"alpha_3.txt\", mode = 'w') as file:\n",
    "    for letter1, letter2, letter3 in zip(string.ascii_letters[0::3], string.ascii_letters[1::3], \n",
    "                                         string.ascii_letters[2::3]):\n",
    "        file.write(letter1 + letter2 + letter3 + \"\\n\" )"
   ]
  },
  {
   "cell_type": "code",
   "execution_count": null,
   "metadata": {},
   "outputs": [],
   "source": []
  },
  {
   "cell_type": "markdown",
   "metadata": {},
   "source": [
    "### Exe 45\n",
    "**Question:** Please create a script that generates 26 text files named a.txt, b.txt, and so on up to z.txt.\n",
    "    Each file should contain a letter reflecting its filename.\n",
    "    So, a.txt will contain letter a, b.txt will contain letter b, and so on.\n",
    "    "
   ]
  },
  {
   "cell_type": "code",
   "execution_count": 39,
   "metadata": {},
   "outputs": [],
   "source": [
    "# My Method\n",
    "letters = string.ascii_lowercase\n",
    "\n",
    "for i in letters:\n",
    "    with open(f'''{i}.txt''' , mode = 'w') as file:\n",
    "        file.write(i)"
   ]
  },
  {
   "cell_type": "code",
   "execution_count": 40,
   "metadata": {},
   "outputs": [],
   "source": [
    "# Instructor's Method\n",
    "import os\n",
    "\n",
    "if not os.path.exists(\"letters\"):\n",
    "    os.mkdir(\"letters\")\n",
    "    \n",
    "for letter in string.ascii_lowercase:\n",
    "    with open(\"letters/\" + letter + \".txt\" , mode = 'w') as file:\n",
    "        file.write(letter)"
   ]
  },
  {
   "cell_type": "code",
   "execution_count": null,
   "metadata": {},
   "outputs": [],
   "source": []
  },
  {
   "cell_type": "markdown",
   "metadata": {},
   "source": [
    "### Exe 46\n",
    "Write a script that extracts letters from the 26 files and put the letters in the list"
   ]
  },
  {
   "cell_type": "code",
   "execution_count": 28,
   "metadata": {},
   "outputs": [
    {
     "data": {
      "text/plain": [
       "['a',\n",
       " 'b',\n",
       " 'c',\n",
       " 'd',\n",
       " 'e',\n",
       " 'f',\n",
       " 'g',\n",
       " 'h',\n",
       " 'i',\n",
       " 'j',\n",
       " 'k',\n",
       " 'l',\n",
       " 'm',\n",
       " 'n',\n",
       " 'o',\n",
       " 'p',\n",
       " 'q',\n",
       " 'r',\n",
       " 's',\n",
       " 't',\n",
       " 'u',\n",
       " 'v',\n",
       " 'w',\n",
       " 'x',\n",
       " 'y',\n",
       " 'z']"
      ]
     },
     "execution_count": 28,
     "metadata": {},
     "output_type": "execute_result"
    }
   ],
   "source": [
    "# My Method\n",
    "\n",
    "\n",
    "import string\n",
    "empty = []\n",
    "for i in string.ascii_lowercase:\n",
    "    with open(f'''letters\\\\{i}.txt''', mode = 'r') as file:\n",
    "        empty.append(file.read())\n",
    "    \n",
    "\n",
    "empty"
   ]
  },
  {
   "cell_type": "code",
   "execution_count": 32,
   "metadata": {},
   "outputs": [
    {
     "data": {
      "text/plain": [
       "['a',\n",
       " 'b',\n",
       " 'c',\n",
       " 'd',\n",
       " 'e',\n",
       " 'f',\n",
       " 'g',\n",
       " 'h',\n",
       " 'i',\n",
       " 'j',\n",
       " 'k',\n",
       " 'l',\n",
       " 'm',\n",
       " 'n',\n",
       " 'o',\n",
       " 'p',\n",
       " 'q',\n",
       " 'r',\n",
       " 's',\n",
       " 't',\n",
       " 'u',\n",
       " 'v',\n",
       " 'w',\n",
       " 'x',\n",
       " 'y',\n",
       " 'z']"
      ]
     },
     "execution_count": 32,
     "metadata": {},
     "output_type": "execute_result"
    }
   ],
   "source": [
    "# Instructors Method\n",
    "import glob\n",
    "\n",
    "filePath_list = glob.glob(\"letters/*.txt\") # This glob method will make list of all the files available in the Letter Folder\n",
    "letter_list = []\n",
    "for path in filePath_list:\n",
    "    with open(path, mode = 'r') as file:\n",
    "        letter_list.append(file.read())\n",
    "        \n",
    "        \n",
    "        \n",
    "letter_list"
   ]
  },
  {
   "cell_type": "markdown",
   "metadata": {},
   "source": [
    "### Exe 47\n",
    "Write a script that itterates through each of the 26 text files, check if the letter inside the text file is in string \"Python\" and \n",
    "Puts the letter in a list if the list if the letter is character of \"python\""
   ]
  },
  {
   "cell_type": "code",
   "execution_count": 56,
   "metadata": {},
   "outputs": [
    {
     "data": {
      "text/plain": [
       "[]"
      ]
     },
     "execution_count": 56,
     "metadata": {},
     "output_type": "execute_result"
    }
   ],
   "source": [
    "# My Method (I failed to do this)(This method is not woorking either)\n",
    "import glob\n",
    "list_of_letters = []\n",
    "path_list = glob.glob(\"letters/*.txt\")\n",
    "python_list = [\"h\", \"n\", \"o\", \"p\", \"t\", \"y\"]\n",
    "\n",
    "for path in path_list:\n",
    "    with open(path, mode = 'r') as file:\n",
    "        for letter in python_list:\n",
    "            if file.read() == letter:\n",
    "                list_of_letters.append(file.read())\n",
    "        \n",
    "        \n",
    "        \n",
    "list_of_letters"
   ]
  },
  {
   "cell_type": "code",
   "execution_count": 71,
   "metadata": {},
   "outputs": [
    {
     "data": {
      "text/plain": [
       "['h', 'n', 'o', 'p', 't', 'y']"
      ]
     },
     "execution_count": 71,
     "metadata": {},
     "output_type": "execute_result"
    }
   ],
   "source": [
    "# Correct Method\n",
    "\n",
    "import glob\n",
    "list_of_letters = []\n",
    "file_path = glob.glob(\"letters/*.txt\")\n",
    "to_check = 'python'\n",
    "\n",
    "for path in file_path:\n",
    "    with open(path, mode = 'r') as file:\n",
    "        letter = file.read()\n",
    "    if letter in to_check:\n",
    "        list_of_letters.append(letter)\n",
    "        \n",
    "list_of_letters"
   ]
  },
  {
   "cell_type": "code",
   "execution_count": null,
   "metadata": {},
   "outputs": [],
   "source": []
  },
  {
   "cell_type": "markdown",
   "metadata": {},
   "source": [
    "### Exe 48\n",
    "**Question:** The script is supposed to print out the letter \"e\" if the letter is in the string \"Hello,\" but it doesn't.\n",
    "    Please try to fix the script.\n",
    "                                                                                          \n",
    "for letter in \"Hello\":                                                                                          \n",
    "    if letter == \"e\":                                                                                          \n",
    "    print(letter)                                                                                          \n",
    "**Expected output:**                                                                                          \n",
    "                                                                                          \n",
    "e                                                                                           "
   ]
  },
  {
   "cell_type": "code",
   "execution_count": 72,
   "metadata": {},
   "outputs": [
    {
     "name": "stdout",
     "output_type": "stream",
     "text": [
      "e\n"
     ]
    }
   ],
   "source": [
    "# Indentation was not given, so I fixed it and place indentation \n",
    "for letter in \"Hello\":                                                                                          \n",
    "    if letter == \"e\":                                                                                          \n",
    "        print(letter)"
   ]
  },
  {
   "cell_type": "markdown",
   "metadata": {},
   "source": [
    "### Exe 49\n",
    "Question: The code is supposed to get some input from the user, but instead, it produces an error.                                                                                           \n",
    "Please try to understand the error and then fix it.                                                    \n",
    "                                                                                                        \n",
    "pass = input(\"Please enter your password: \")                                                     \n",
    "                                                                                                        \n",
    "Note: Please use raw_input  instead of input if you are on Python 2. For Python 3 input  is fine.                                                    "
   ]
  },
  {
   "cell_type": "code",
   "execution_count": 79,
   "metadata": {},
   "outputs": [
    {
     "ename": "SyntaxError",
     "evalue": "invalid syntax (<ipython-input-79-d1c17f03f405>, line 1)",
     "output_type": "error",
     "traceback": [
      "\u001b[1;36m  File \u001b[1;32m\"<ipython-input-79-d1c17f03f405>\"\u001b[1;36m, line \u001b[1;32m1\u001b[0m\n\u001b[1;33m    pass = input('Please enter your password:')\u001b[0m\n\u001b[1;37m         ^\u001b[0m\n\u001b[1;31mSyntaxError\u001b[0m\u001b[1;31m:\u001b[0m invalid syntax\n"
     ]
    }
   ],
   "source": [
    "pass = input('Please enter your password:')"
   ]
  },
  {
   "cell_type": "code",
   "execution_count": 80,
   "metadata": {},
   "outputs": [
    {
     "name": "stdout",
     "output_type": "stream",
     "text": [
      "Please enter your password:correct answer !\n"
     ]
    }
   ],
   "source": [
    "# We cannot use \"pass\" as it is reserved keyword\n",
    "# instead we will use \n",
    "question = input('Please enter your password:')"
   ]
  },
  {
   "cell_type": "markdown",
   "metadata": {},
   "source": [
    "### Exe 50\n",
    "**Question:** The code produces an error. Please understand the error and try to fix it                                                                                      \n",
    "                                                                                       \n",
    "age = input(\"What's your age? \")                                                                                      \n",
    "age_last_year = age - 1                                                                                      \n",
    "print(\"Last year you were %s.\" % age_last_year)                                                                                      \n",
    "**Note:** Please use raw_input instead of input if you are on Python 2. For Python 3 input is fine.                                                                                      "
   ]
  },
  {
   "cell_type": "code",
   "execution_count": 91,
   "metadata": {},
   "outputs": [
    {
     "name": "stdout",
     "output_type": "stream",
     "text": [
      "What's your age? 22\n",
      "Last year you were 21.\n"
     ]
    }
   ],
   "source": [
    "# The error was rising because the input was in the str format, so we converted it into Int format.\n",
    "age =int( input(\"What's your age? \"))                                                                                      \n",
    "age_last_year = age - 1                                                                                      \n",
    "print(\"Last year you were %s.\" % age_last_year)"
   ]
  },
  {
   "cell_type": "code",
   "execution_count": null,
   "metadata": {},
   "outputs": [],
   "source": []
  }
 ],
 "metadata": {
  "kernelspec": {
   "display_name": "Python 3",
   "language": "python",
   "name": "python3"
  },
  "language_info": {
   "codemirror_mode": {
    "name": "ipython",
    "version": 3
   },
   "file_extension": ".py",
   "mimetype": "text/x-python",
   "name": "python",
   "nbconvert_exporter": "python",
   "pygments_lexer": "ipython3",
   "version": "3.8.5"
  }
 },
 "nbformat": 4,
 "nbformat_minor": 4
}
